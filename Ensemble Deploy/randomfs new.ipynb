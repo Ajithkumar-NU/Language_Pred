{
 "cells": [
  {
   "cell_type": "code",
   "execution_count": 1,
   "id": "77b62add",
   "metadata": {},
   "outputs": [],
   "source": [
    "import pandas as pd\n",
    "import numpy as np\n",
    "import plotly.express as px\n",
    "from sklearn.preprocessing import LabelEncoder\n",
    "from sklearn.preprocessing import OneHotEncoder\n",
    "from sklearn.ensemble import RandomForestClassifier\n",
    "\n",
    "\n",
    "\n",
    "from sklearn.model_selection import train_test_split\n",
    "from sklearn.metrics import classification_report\n",
    "from sklearn.metrics import accuracy_score\n",
    "\n",
    "from sklearn.ensemble import BaggingClassifier\n",
    "from sklearn import tree"
   ]
  },
  {
   "cell_type": "code",
   "execution_count": 2,
   "id": "ed10d11f",
   "metadata": {},
   "outputs": [],
   "source": [
    "# pip install scikit-learn\n"
   ]
  },
  {
   "cell_type": "code",
   "execution_count": null,
   "id": "1e85399e",
   "metadata": {},
   "outputs": [],
   "source": []
  },
  {
   "cell_type": "code",
   "execution_count": 3,
   "id": "7b2b39dc",
   "metadata": {},
   "outputs": [],
   "source": [
    "\n",
    "df = pd.read_csv('dataset1.csv')"
   ]
  },
  {
   "cell_type": "code",
   "execution_count": 4,
   "id": "ee3c1cec",
   "metadata": {},
   "outputs": [],
   "source": [
    "df.dropna(subset=['Language Main'], inplace=True)"
   ]
  },
  {
   "cell_type": "code",
   "execution_count": 5,
   "id": "eb58973c",
   "metadata": {},
   "outputs": [
    {
     "data": {
      "text/html": [
       "<div>\n",
       "<style scoped>\n",
       "    .dataframe tbody tr th:only-of-type {\n",
       "        vertical-align: middle;\n",
       "    }\n",
       "\n",
       "    .dataframe tbody tr th {\n",
       "        vertical-align: top;\n",
       "    }\n",
       "\n",
       "    .dataframe thead th {\n",
       "        text-align: right;\n",
       "    }\n",
       "</style>\n",
       "<table border=\"1\" class=\"dataframe\">\n",
       "  <thead>\n",
       "    <tr style=\"text-align: right;\">\n",
       "      <th></th>\n",
       "      <th>Sno</th>\n",
       "      <th>Initials</th>\n",
       "      <th>First Name</th>\n",
       "      <th>Middle Name</th>\n",
       "      <th>Surname</th>\n",
       "      <th>Language Main</th>\n",
       "    </tr>\n",
       "  </thead>\n",
       "  <tbody>\n",
       "    <tr>\n",
       "      <th>0</th>\n",
       "      <td>1.0</td>\n",
       "      <td>NaN</td>\n",
       "      <td>Hiranya</td>\n",
       "      <td>NaN</td>\n",
       "      <td>Durrani</td>\n",
       "      <td>Kashmiri</td>\n",
       "    </tr>\n",
       "    <tr>\n",
       "      <th>1</th>\n",
       "      <td>2.0</td>\n",
       "      <td>NaN</td>\n",
       "      <td>Bhupendra</td>\n",
       "      <td>NaN</td>\n",
       "      <td>Tikkoo</td>\n",
       "      <td>Kashmiri</td>\n",
       "    </tr>\n",
       "    <tr>\n",
       "      <th>2</th>\n",
       "      <td>3.0</td>\n",
       "      <td>NaN</td>\n",
       "      <td>Mrigavati</td>\n",
       "      <td>NaN</td>\n",
       "      <td>Durrani</td>\n",
       "      <td>Kashmiri</td>\n",
       "    </tr>\n",
       "    <tr>\n",
       "      <th>3</th>\n",
       "      <td>4.0</td>\n",
       "      <td>NaN</td>\n",
       "      <td>Smriti</td>\n",
       "      <td>NaN</td>\n",
       "      <td>Raina</td>\n",
       "      <td>Kashmiri</td>\n",
       "    </tr>\n",
       "    <tr>\n",
       "      <th>4</th>\n",
       "      <td>5.0</td>\n",
       "      <td>NaN</td>\n",
       "      <td>Heeposh</td>\n",
       "      <td>NaN</td>\n",
       "      <td>Talwar</td>\n",
       "      <td>Kashmiri</td>\n",
       "    </tr>\n",
       "  </tbody>\n",
       "</table>\n",
       "</div>"
      ],
      "text/plain": [
       "   Sno  Initials First Name Middle Name  Surname Language Main\n",
       "0  1.0       NaN    Hiranya         NaN  Durrani      Kashmiri\n",
       "1  2.0       NaN  Bhupendra         NaN   Tikkoo      Kashmiri\n",
       "2  3.0       NaN  Mrigavati         NaN  Durrani      Kashmiri\n",
       "3  4.0       NaN     Smriti         NaN    Raina      Kashmiri\n",
       "4  5.0       NaN    Heeposh         NaN   Talwar      Kashmiri"
      ]
     },
     "execution_count": 5,
     "metadata": {},
     "output_type": "execute_result"
    }
   ],
   "source": [
    "df.head()"
   ]
  },
  {
   "cell_type": "code",
   "execution_count": 6,
   "id": "3036d874",
   "metadata": {},
   "outputs": [],
   "source": [
    "filter_cols = ['First Name', 'Surname']\n",
    "\n"
   ]
  },
  {
   "cell_type": "code",
   "execution_count": 7,
   "id": "68a21c7a",
   "metadata": {},
   "outputs": [],
   "source": [
    "df1 = df.dropna(how='all').dropna(how='all', axis=1)"
   ]
  },
  {
   "cell_type": "code",
   "execution_count": 8,
   "id": "90b818da",
   "metadata": {
    "scrolled": true
   },
   "outputs": [],
   "source": [
    "# target_count = px.histogram(df, x='Language Main')\n",
    "\n",
    "# target_count.show()"
   ]
  },
  {
   "cell_type": "code",
   "execution_count": null,
   "id": "5c4f23f4",
   "metadata": {},
   "outputs": [],
   "source": []
  },
  {
   "cell_type": "code",
   "execution_count": null,
   "id": "898711d2",
   "metadata": {},
   "outputs": [],
   "source": []
  },
  {
   "cell_type": "markdown",
   "id": "26c6340f",
   "metadata": {},
   "source": []
  },
  {
   "cell_type": "code",
   "execution_count": 9,
   "id": "6db50974",
   "metadata": {},
   "outputs": [
    {
     "data": {
      "text/html": [
       "<div>\n",
       "<style scoped>\n",
       "    .dataframe tbody tr th:only-of-type {\n",
       "        vertical-align: middle;\n",
       "    }\n",
       "\n",
       "    .dataframe tbody tr th {\n",
       "        vertical-align: top;\n",
       "    }\n",
       "\n",
       "    .dataframe thead th {\n",
       "        text-align: right;\n",
       "    }\n",
       "</style>\n",
       "<table border=\"1\" class=\"dataframe\">\n",
       "  <thead>\n",
       "    <tr style=\"text-align: right;\">\n",
       "      <th></th>\n",
       "      <th>Sno</th>\n",
       "      <th>First Name</th>\n",
       "      <th>Middle Name</th>\n",
       "      <th>Surname</th>\n",
       "      <th>Language Main</th>\n",
       "    </tr>\n",
       "  </thead>\n",
       "  <tbody>\n",
       "    <tr>\n",
       "      <th>0</th>\n",
       "      <td>1.0</td>\n",
       "      <td>Hiranya</td>\n",
       "      <td>NaN</td>\n",
       "      <td>Durrani</td>\n",
       "      <td>Kashmiri</td>\n",
       "    </tr>\n",
       "    <tr>\n",
       "      <th>1</th>\n",
       "      <td>2.0</td>\n",
       "      <td>Bhupendra</td>\n",
       "      <td>NaN</td>\n",
       "      <td>Tikkoo</td>\n",
       "      <td>Kashmiri</td>\n",
       "    </tr>\n",
       "    <tr>\n",
       "      <th>2</th>\n",
       "      <td>3.0</td>\n",
       "      <td>Mrigavati</td>\n",
       "      <td>NaN</td>\n",
       "      <td>Durrani</td>\n",
       "      <td>Kashmiri</td>\n",
       "    </tr>\n",
       "    <tr>\n",
       "      <th>3</th>\n",
       "      <td>4.0</td>\n",
       "      <td>Smriti</td>\n",
       "      <td>NaN</td>\n",
       "      <td>Raina</td>\n",
       "      <td>Kashmiri</td>\n",
       "    </tr>\n",
       "    <tr>\n",
       "      <th>4</th>\n",
       "      <td>5.0</td>\n",
       "      <td>Heeposh</td>\n",
       "      <td>NaN</td>\n",
       "      <td>Talwar</td>\n",
       "      <td>Kashmiri</td>\n",
       "    </tr>\n",
       "  </tbody>\n",
       "</table>\n",
       "</div>"
      ],
      "text/plain": [
       "   Sno First Name Middle Name  Surname Language Main\n",
       "0  1.0    Hiranya         NaN  Durrani      Kashmiri\n",
       "1  2.0  Bhupendra         NaN   Tikkoo      Kashmiri\n",
       "2  3.0  Mrigavati         NaN  Durrani      Kashmiri\n",
       "3  4.0     Smriti         NaN    Raina      Kashmiri\n",
       "4  5.0    Heeposh         NaN   Talwar      Kashmiri"
      ]
     },
     "execution_count": 9,
     "metadata": {},
     "output_type": "execute_result"
    }
   ],
   "source": [
    "df1.head()"
   ]
  },
  {
   "cell_type": "code",
   "execution_count": 10,
   "id": "f8537788",
   "metadata": {},
   "outputs": [],
   "source": [
    "df2 = df1.drop(['Middle Name','Sno'],axis = 1)"
   ]
  },
  {
   "cell_type": "code",
   "execution_count": 11,
   "id": "88a7a308",
   "metadata": {},
   "outputs": [
    {
     "data": {
      "text/plain": [
       "First Name       object\n",
       "Surname          object\n",
       "Language Main    object\n",
       "dtype: object"
      ]
     },
     "execution_count": 11,
     "metadata": {},
     "output_type": "execute_result"
    }
   ],
   "source": [
    "df2.dtypes"
   ]
  },
  {
   "cell_type": "code",
   "execution_count": 12,
   "id": "e54651a0",
   "metadata": {},
   "outputs": [
    {
     "data": {
      "text/html": [
       "<div>\n",
       "<style scoped>\n",
       "    .dataframe tbody tr th:only-of-type {\n",
       "        vertical-align: middle;\n",
       "    }\n",
       "\n",
       "    .dataframe tbody tr th {\n",
       "        vertical-align: top;\n",
       "    }\n",
       "\n",
       "    .dataframe thead th {\n",
       "        text-align: right;\n",
       "    }\n",
       "</style>\n",
       "<table border=\"1\" class=\"dataframe\">\n",
       "  <thead>\n",
       "    <tr style=\"text-align: right;\">\n",
       "      <th></th>\n",
       "      <th>First Name</th>\n",
       "      <th>Surname</th>\n",
       "      <th>Language Main</th>\n",
       "    </tr>\n",
       "  </thead>\n",
       "  <tbody>\n",
       "    <tr>\n",
       "      <th>0</th>\n",
       "      <td>Hiranya</td>\n",
       "      <td>Durrani</td>\n",
       "      <td>Kashmiri</td>\n",
       "    </tr>\n",
       "    <tr>\n",
       "      <th>1</th>\n",
       "      <td>Bhupendra</td>\n",
       "      <td>Tikkoo</td>\n",
       "      <td>Kashmiri</td>\n",
       "    </tr>\n",
       "    <tr>\n",
       "      <th>2</th>\n",
       "      <td>Mrigavati</td>\n",
       "      <td>Durrani</td>\n",
       "      <td>Kashmiri</td>\n",
       "    </tr>\n",
       "    <tr>\n",
       "      <th>3</th>\n",
       "      <td>Smriti</td>\n",
       "      <td>Raina</td>\n",
       "      <td>Kashmiri</td>\n",
       "    </tr>\n",
       "    <tr>\n",
       "      <th>4</th>\n",
       "      <td>Heeposh</td>\n",
       "      <td>Talwar</td>\n",
       "      <td>Kashmiri</td>\n",
       "    </tr>\n",
       "  </tbody>\n",
       "</table>\n",
       "</div>"
      ],
      "text/plain": [
       "  First Name  Surname Language Main\n",
       "0    Hiranya  Durrani      Kashmiri\n",
       "1  Bhupendra   Tikkoo      Kashmiri\n",
       "2  Mrigavati  Durrani      Kashmiri\n",
       "3     Smriti    Raina      Kashmiri\n",
       "4    Heeposh   Talwar      Kashmiri"
      ]
     },
     "execution_count": 12,
     "metadata": {},
     "output_type": "execute_result"
    }
   ],
   "source": [
    "df2.head()"
   ]
  },
  {
   "cell_type": "code",
   "execution_count": 13,
   "id": "52bcdbd0",
   "metadata": {},
   "outputs": [
    {
     "name": "stdout",
     "output_type": "stream",
     "text": [
      "['Hiranya' 'Bhupendra' 'Mrigavati' ... 'Gargi' 'Prathmesh' 'Prathit']\n",
      "['Durrani' 'Tikkoo' 'Raina' 'Talwar' 'Padar' 'Machama' 'Akhoon' 'Kanna'\n",
      " 'Parimoo' 'Mirza' 'Dar' 'Munshi' 'Draboo' 'Chakoo' 'Bhat' 'Sangra' 'Khar'\n",
      " 'Wani' 'Bharali' 'Neog' 'Sahu' 'Mahato' 'Thakur' 'Barua' 'Talukdar'\n",
      " 'Bora' 'Gogoi' 'Borthakur' 'Goswami' 'Sharma' 'Chutiapeople' 'Hazarika'\n",
      " 'Sutradhar' 'Sarma' 'Pathak' 'Deka' 'Rajni' 'Saikia' 'Phukan' 'Barah'\n",
      " 'Borah' 'Ghosh' 'Baruah' 'Chakraborty' 'Bordoloi' 'Kumar' 'Choudhary'\n",
      " 'Tiwari' 'Verma' 'Kashyap' 'Jaiswal' 'Shukla' 'Bharadwaj' 'Mishra'\n",
      " 'Singh' 'Yadav' 'Rai' 'Jha' 'Sinha' 'Thandan' 'Vaidyar' 'Ezhuthachan'\n",
      " 'Channar' 'Chekavar' 'Kaimal' 'Pillai' 'Menon' 'Kongassery' 'Nambiar'\n",
      " 'Panikkar' 'Krishnan' 'Sebastian' 'Nair' 'Varghese' 'Kartha' 'Moopan'\n",
      " 'Panicker' 'Konranchath' 'Thirumulpad' 'Vijayan' 'Achari' 'Chowdhury'\n",
      " 'Dalal' 'Gajjar' 'Wadia' 'Doshi' 'Shah' 'Joshi' 'Dastur' 'Mistry'\n",
      " 'Daruwala' 'Desai' 'Ganjawala' 'Cursetji' 'Kapadiya' 'Barot' 'Thakkar'\n",
      " 'Mukesh' 'Cowasjee' 'Dholakia' 'Sheth' 'Patel' 'Modi' 'Choksi' 'Lakhani'\n",
      " 'Nanji' 'Purohit' 'Parekh' 'Gupta' 'Adani' 'Acharya' 'VikramSarabhai'\n",
      " 'Ambani' 'Bose' 'Basu' 'Moitra' 'Bandhyopadhyay' 'Chattopadhyay'\n",
      " 'Chatterjee' 'Banerjee' 'Ganguly' 'Bhattacharya' 'Biswas' 'Dutta'\n",
      " 'SenBasu' 'Tagore' 'Mukherjee' 'Baliga' 'Barreto' 'Afonso' 'DeSouza'\n",
      " 'Alves' 'Pilgaonkar' 'Gonsalves' 'Asgaonkar' 'Andrade' 'Akerkar'\n",
      " 'Almeida' 'Menezes' 'Mudakatte' 'Salwankar' 'Shankar' 'Gauda' 'Ballari'\n",
      " 'Gowda' 'Aravind' 'Pojaary' 'Kumbar' 'Shetty' 'Rajani' 'Rajal' 'Bhatt'\n",
      " 'Deo' 'Raju' 'Pattanasetti' 'Jayanthi' 'Sunagar' 'Kashyapa' 'Kulkarni'\n",
      " 'Mulimani' 'Udupa' 'Bhatta' 'Kamat' 'Devadiga' 'Hegade' 'Abujam'\n",
      " 'Akoijam' 'Chiru' 'Ahanthem' 'Sanasam' 'Angom' 'Singson' 'Shaikhom'\n",
      " 'Sagolsem' 'Sumpi' 'Chakhesang' 'Akham' 'Salam' 'Dodeja' 'Makhija'\n",
      " 'Juneja' 'Hinduja' 'Mirchandani' 'Asrani' 'Lohana' 'Bhatia' 'Sandhu'\n",
      " 'Ahuja' 'Khan' 'Bhil' 'Kukreja' 'Lanjwani' 'Raheja' 'Kolhi' 'Bhati'\n",
      " 'Khatri' 'Chachar' 'Bhagwani' 'Malik' 'Kaur' 'Dhaliwal' 'Bajaj' 'Sood'\n",
      " 'Dhillon' 'Kalra' 'Duggal' 'Virk' 'Kohli' 'Anand' 'Khanna' 'Malhotra'\n",
      " 'Aneja' 'Dosanjh' 'Bhasin' 'Sodhi' 'Dhawan' 'Arora' 'Batra' 'Chawla'\n",
      " 'Mehta' 'Khurana' 'Mehra' 'Bajwa' 'Deol' 'Kapoor' 'Mahajan' 'Sehgal'\n",
      " 'Lal' 'Vikram' 'Parajuli' 'Gurung' 'Subba' 'Dhungana' 'Kami' 'Damai'\n",
      " 'Limboo' 'Lepcha' 'Karki' 'Maharjan' 'Khatun' 'Thapa' 'Sarki' 'Chettri'\n",
      " 'Bhutia' 'Tamang' 'Sherpa' 'Thevar' 'Mudaliar' 'Udayar' 'Srinivasan'\n",
      " 'Venkatraman' 'Iyengar' 'Subramaniam' 'Chettiar' 'Naicker' 'Iyer'\n",
      " 'Krishnamurthi' 'Idaiyar' 'Paraiyar' 'Gounder' 'Panda' 'Bisoi' 'Pujari'\n",
      " 'Biswal' 'Pradhan' 'Pattnaik' 'Panigrahi' 'Praharaj' 'Behera' 'Mahapatra'\n",
      " 'Sabat' 'Sarangi' 'Patra' 'Das' 'Dikshit' 'Babu' 'Reddy' 'Bhagavatula'\n",
      " 'Goud' 'Abdul' 'Chiguluri' 'Gurram' 'Gunti' 'Balaji' 'Bethi'\n",
      " 'Bellamkonda' 'Davuluri' 'Akkineni' 'Shirke' 'Pawar' 'Bhandari' 'Kharche'\n",
      " 'Apte' 'Bhede' 'Kamble' 'Ahale' 'Athawale' 'Gaitonde' 'Patil' 'Adhikari'\n",
      " 'Deshmukh' 'Kapse' 'Deshpande' 'Gawali' 'Gadkari']\n"
     ]
    }
   ],
   "source": [
    "print(df2['First Name'].unique())\n",
    "print(df2['Surname'].unique())"
   ]
  },
  {
   "cell_type": "code",
   "execution_count": 14,
   "id": "aca12851",
   "metadata": {},
   "outputs": [
    {
     "data": {
      "text/plain": [
       "Ghosh          643\n",
       "Chakraborty    643\n",
       "Udayar         624\n",
       "Shankar        592\n",
       "Shetty         592\n",
       "              ... \n",
       "Nanji          100\n",
       "Choksi         100\n",
       "Modi           100\n",
       "Sheth          100\n",
       "Gupta          100\n",
       "Name: Surname, Length: 305, dtype: int64"
      ]
     },
     "execution_count": 14,
     "metadata": {},
     "output_type": "execute_result"
    }
   ],
   "source": [
    "df2['First Name'].value_counts()\n",
    "df2['Surname'].value_counts()"
   ]
  },
  {
   "cell_type": "code",
   "execution_count": 15,
   "id": "e6961ee1",
   "metadata": {},
   "outputs": [
    {
     "name": "stdout",
     "output_type": "stream",
     "text": [
      "      Language Main  First Name_10K+  First Name_Aaarti  First Name_Aabha  \\\n",
      "0          Kashmiri                0                  0                 0   \n",
      "1          Kashmiri                0                  0                 0   \n",
      "2          Kashmiri                0                  0                 0   \n",
      "3          Kashmiri                0                  0                 0   \n",
      "4          Kashmiri                0                  0                 0   \n",
      "...             ...              ...                ...               ...   \n",
      "81662       Marathi                0                  0                 0   \n",
      "81663       Marathi                0                  0                 0   \n",
      "81664       Marathi                0                  0                 0   \n",
      "81665       Marathi                0                  0                 0   \n",
      "81666       Marathi                0                  0                 0   \n",
      "\n",
      "       First Name_Aabharan  First Name_Aabharana  First Name_Aabhas  \\\n",
      "0                        0                     0                  0   \n",
      "1                        0                     0                  0   \n",
      "2                        0                     0                  0   \n",
      "3                        0                     0                  0   \n",
      "4                        0                     0                  0   \n",
      "...                    ...                   ...                ...   \n",
      "81662                    0                     0                  0   \n",
      "81663                    0                     0                  0   \n",
      "81664                    0                     0                  0   \n",
      "81665                    0                     0                  0   \n",
      "81666                    0                     0                  0   \n",
      "\n",
      "       First Name_Aabhat  First Name_Aabheer  First Name_Aabheri  ...  \\\n",
      "0                      0                   0                   0  ...   \n",
      "1                      0                   0                   0  ...   \n",
      "2                      0                   0                   0  ...   \n",
      "3                      0                   0                   0  ...   \n",
      "4                      0                   0                   0  ...   \n",
      "...                  ...                 ...                 ...  ...   \n",
      "81662                  0                   0                   0  ...   \n",
      "81663                  0                   0                   0  ...   \n",
      "81664                  0                   0                   0  ...   \n",
      "81665                  0                   0                   0  ...   \n",
      "81666                  0                   0                   0  ...   \n",
      "\n",
      "       Surname_Varghese  Surname_Venkatraman  Surname_Verma  Surname_Vijayan  \\\n",
      "0                     0                    0              0                0   \n",
      "1                     0                    0              0                0   \n",
      "2                     0                    0              0                0   \n",
      "3                     0                    0              0                0   \n",
      "4                     0                    0              0                0   \n",
      "...                 ...                  ...            ...              ...   \n",
      "81662                 0                    0              0                0   \n",
      "81663                 0                    0              0                0   \n",
      "81664                 0                    0              0                0   \n",
      "81665                 0                    0              0                0   \n",
      "81666                 0                    0              0                0   \n",
      "\n",
      "       Surname_Vikram  Surname_VikramSarabhai  Surname_Virk  Surname_Wadia  \\\n",
      "0                   0                       0             0              0   \n",
      "1                   0                       0             0              0   \n",
      "2                   0                       0             0              0   \n",
      "3                   0                       0             0              0   \n",
      "4                   0                       0             0              0   \n",
      "...               ...                     ...           ...            ...   \n",
      "81662               0                       0             0              0   \n",
      "81663               0                       0             0              0   \n",
      "81664               0                       0             0              0   \n",
      "81665               0                       0             0              0   \n",
      "81666               0                       0             0              0   \n",
      "\n",
      "       Surname_Wani  Surname_Yadav  \n",
      "0                 0              0  \n",
      "1                 0              0  \n",
      "2                 0              0  \n",
      "3                 0              0  \n",
      "4                 0              0  \n",
      "...             ...            ...  \n",
      "81662             0              0  \n",
      "81663             0              0  \n",
      "81664             0              0  \n",
      "81665             0              0  \n",
      "81666             0              0  \n",
      "\n",
      "[81666 rows x 4054 columns]\n"
     ]
    }
   ],
   "source": [
    "data = pd.get_dummies(df2, columns = ['First Name', 'Surname'])\n",
    "print(data)"
   ]
  },
  {
   "cell_type": "code",
   "execution_count": 16,
   "id": "cf5ecdb5",
   "metadata": {},
   "outputs": [
    {
     "data": {
      "text/html": [
       "<div>\n",
       "<style scoped>\n",
       "    .dataframe tbody tr th:only-of-type {\n",
       "        vertical-align: middle;\n",
       "    }\n",
       "\n",
       "    .dataframe tbody tr th {\n",
       "        vertical-align: top;\n",
       "    }\n",
       "\n",
       "    .dataframe thead th {\n",
       "        text-align: right;\n",
       "    }\n",
       "</style>\n",
       "<table border=\"1\" class=\"dataframe\">\n",
       "  <thead>\n",
       "    <tr style=\"text-align: right;\">\n",
       "      <th></th>\n",
       "      <th>Language Main</th>\n",
       "      <th>First Name_10K+</th>\n",
       "      <th>First Name_Aaarti</th>\n",
       "      <th>First Name_Aabha</th>\n",
       "      <th>First Name_Aabharan</th>\n",
       "      <th>First Name_Aabharana</th>\n",
       "      <th>First Name_Aabhas</th>\n",
       "      <th>First Name_Aabhat</th>\n",
       "      <th>First Name_Aabheer</th>\n",
       "      <th>First Name_Aabheri</th>\n",
       "      <th>...</th>\n",
       "      <th>Surname_Varghese</th>\n",
       "      <th>Surname_Venkatraman</th>\n",
       "      <th>Surname_Verma</th>\n",
       "      <th>Surname_Vijayan</th>\n",
       "      <th>Surname_Vikram</th>\n",
       "      <th>Surname_VikramSarabhai</th>\n",
       "      <th>Surname_Virk</th>\n",
       "      <th>Surname_Wadia</th>\n",
       "      <th>Surname_Wani</th>\n",
       "      <th>Surname_Yadav</th>\n",
       "    </tr>\n",
       "  </thead>\n",
       "  <tbody>\n",
       "    <tr>\n",
       "      <th>0</th>\n",
       "      <td>Kashmiri</td>\n",
       "      <td>0</td>\n",
       "      <td>0</td>\n",
       "      <td>0</td>\n",
       "      <td>0</td>\n",
       "      <td>0</td>\n",
       "      <td>0</td>\n",
       "      <td>0</td>\n",
       "      <td>0</td>\n",
       "      <td>0</td>\n",
       "      <td>...</td>\n",
       "      <td>0</td>\n",
       "      <td>0</td>\n",
       "      <td>0</td>\n",
       "      <td>0</td>\n",
       "      <td>0</td>\n",
       "      <td>0</td>\n",
       "      <td>0</td>\n",
       "      <td>0</td>\n",
       "      <td>0</td>\n",
       "      <td>0</td>\n",
       "    </tr>\n",
       "    <tr>\n",
       "      <th>1</th>\n",
       "      <td>Kashmiri</td>\n",
       "      <td>0</td>\n",
       "      <td>0</td>\n",
       "      <td>0</td>\n",
       "      <td>0</td>\n",
       "      <td>0</td>\n",
       "      <td>0</td>\n",
       "      <td>0</td>\n",
       "      <td>0</td>\n",
       "      <td>0</td>\n",
       "      <td>...</td>\n",
       "      <td>0</td>\n",
       "      <td>0</td>\n",
       "      <td>0</td>\n",
       "      <td>0</td>\n",
       "      <td>0</td>\n",
       "      <td>0</td>\n",
       "      <td>0</td>\n",
       "      <td>0</td>\n",
       "      <td>0</td>\n",
       "      <td>0</td>\n",
       "    </tr>\n",
       "    <tr>\n",
       "      <th>2</th>\n",
       "      <td>Kashmiri</td>\n",
       "      <td>0</td>\n",
       "      <td>0</td>\n",
       "      <td>0</td>\n",
       "      <td>0</td>\n",
       "      <td>0</td>\n",
       "      <td>0</td>\n",
       "      <td>0</td>\n",
       "      <td>0</td>\n",
       "      <td>0</td>\n",
       "      <td>...</td>\n",
       "      <td>0</td>\n",
       "      <td>0</td>\n",
       "      <td>0</td>\n",
       "      <td>0</td>\n",
       "      <td>0</td>\n",
       "      <td>0</td>\n",
       "      <td>0</td>\n",
       "      <td>0</td>\n",
       "      <td>0</td>\n",
       "      <td>0</td>\n",
       "    </tr>\n",
       "    <tr>\n",
       "      <th>3</th>\n",
       "      <td>Kashmiri</td>\n",
       "      <td>0</td>\n",
       "      <td>0</td>\n",
       "      <td>0</td>\n",
       "      <td>0</td>\n",
       "      <td>0</td>\n",
       "      <td>0</td>\n",
       "      <td>0</td>\n",
       "      <td>0</td>\n",
       "      <td>0</td>\n",
       "      <td>...</td>\n",
       "      <td>0</td>\n",
       "      <td>0</td>\n",
       "      <td>0</td>\n",
       "      <td>0</td>\n",
       "      <td>0</td>\n",
       "      <td>0</td>\n",
       "      <td>0</td>\n",
       "      <td>0</td>\n",
       "      <td>0</td>\n",
       "      <td>0</td>\n",
       "    </tr>\n",
       "    <tr>\n",
       "      <th>4</th>\n",
       "      <td>Kashmiri</td>\n",
       "      <td>0</td>\n",
       "      <td>0</td>\n",
       "      <td>0</td>\n",
       "      <td>0</td>\n",
       "      <td>0</td>\n",
       "      <td>0</td>\n",
       "      <td>0</td>\n",
       "      <td>0</td>\n",
       "      <td>0</td>\n",
       "      <td>...</td>\n",
       "      <td>0</td>\n",
       "      <td>0</td>\n",
       "      <td>0</td>\n",
       "      <td>0</td>\n",
       "      <td>0</td>\n",
       "      <td>0</td>\n",
       "      <td>0</td>\n",
       "      <td>0</td>\n",
       "      <td>0</td>\n",
       "      <td>0</td>\n",
       "    </tr>\n",
       "  </tbody>\n",
       "</table>\n",
       "<p>5 rows × 4054 columns</p>\n",
       "</div>"
      ],
      "text/plain": [
       "  Language Main  First Name_10K+  First Name_Aaarti  First Name_Aabha  \\\n",
       "0      Kashmiri                0                  0                 0   \n",
       "1      Kashmiri                0                  0                 0   \n",
       "2      Kashmiri                0                  0                 0   \n",
       "3      Kashmiri                0                  0                 0   \n",
       "4      Kashmiri                0                  0                 0   \n",
       "\n",
       "   First Name_Aabharan  First Name_Aabharana  First Name_Aabhas  \\\n",
       "0                    0                     0                  0   \n",
       "1                    0                     0                  0   \n",
       "2                    0                     0                  0   \n",
       "3                    0                     0                  0   \n",
       "4                    0                     0                  0   \n",
       "\n",
       "   First Name_Aabhat  First Name_Aabheer  First Name_Aabheri  ...  \\\n",
       "0                  0                   0                   0  ...   \n",
       "1                  0                   0                   0  ...   \n",
       "2                  0                   0                   0  ...   \n",
       "3                  0                   0                   0  ...   \n",
       "4                  0                   0                   0  ...   \n",
       "\n",
       "   Surname_Varghese  Surname_Venkatraman  Surname_Verma  Surname_Vijayan  \\\n",
       "0                 0                    0              0                0   \n",
       "1                 0                    0              0                0   \n",
       "2                 0                    0              0                0   \n",
       "3                 0                    0              0                0   \n",
       "4                 0                    0              0                0   \n",
       "\n",
       "   Surname_Vikram  Surname_VikramSarabhai  Surname_Virk  Surname_Wadia  \\\n",
       "0               0                       0             0              0   \n",
       "1               0                       0             0              0   \n",
       "2               0                       0             0              0   \n",
       "3               0                       0             0              0   \n",
       "4               0                       0             0              0   \n",
       "\n",
       "   Surname_Wani  Surname_Yadav  \n",
       "0             0              0  \n",
       "1             0              0  \n",
       "2             0              0  \n",
       "3             0              0  \n",
       "4             0              0  \n",
       "\n",
       "[5 rows x 4054 columns]"
      ]
     },
     "execution_count": 16,
     "metadata": {},
     "output_type": "execute_result"
    }
   ],
   "source": [
    "data.head()"
   ]
  },
  {
   "cell_type": "code",
   "execution_count": 17,
   "id": "7972132e",
   "metadata": {},
   "outputs": [],
   "source": [
    "#  def label_encoder(y):\n",
    "#     le = LabelEncoder()\n",
    "#     df2[y] = le.fit_transform(df2[y])\n",
    " \n",
    "# label_list = [\"First Name\", \"Surname\"]\n",
    "\n",
    "# for l in label_list:\n",
    "#     label_encoder(l)\n",
    " \n",
    "# #Display transformed data\n",
    "# df2.head()"
   ]
  },
  {
   "cell_type": "code",
   "execution_count": 18,
   "id": "cbd1e951",
   "metadata": {},
   "outputs": [],
   "source": [
    "x=data.drop('Language Main',axis=1)\n",
    "y=data['Language Main']\n",
    "# x=pd.get_dummies(x)"
   ]
  },
  {
   "cell_type": "code",
   "execution_count": 19,
   "id": "397f3283",
   "metadata": {},
   "outputs": [],
   "source": [
    "x_train,x_temp,y_train,y_temp=train_test_split(x,y,train_size=.8,random_state=1)\n",
    "x_test,x_valid,y_test,y_valid=train_test_split(x_temp,y_temp,train_size=0.4)"
   ]
  },
  {
   "cell_type": "code",
   "execution_count": 20,
   "id": "d42d5219",
   "metadata": {},
   "outputs": [],
   "source": [
    "# X_train, X_test, y_train, y_test = train_test_split(X, y, test_size=0.2, random_state=0)\n",
    "\n",
    "# # Split the train data into train and validation sets\n",
    "# X_train, X_val, y_train, y_val = train_test_split(X_train, y_train, test_size=0.2, random_state=0)"
   ]
  },
  {
   "cell_type": "code",
   "execution_count": 21,
   "id": "66fc4705",
   "metadata": {},
   "outputs": [
    {
     "data": {
      "text/plain": [
       "(65332, 4053)"
      ]
     },
     "execution_count": 21,
     "metadata": {},
     "output_type": "execute_result"
    }
   ],
   "source": [
    "x_train.shape"
   ]
  },
  {
   "cell_type": "code",
   "execution_count": 22,
   "id": "785958e4",
   "metadata": {},
   "outputs": [
    {
     "data": {
      "text/plain": [
       "(65332,)"
      ]
     },
     "execution_count": 22,
     "metadata": {},
     "output_type": "execute_result"
    }
   ],
   "source": [
    "y_train.shape"
   ]
  },
  {
   "cell_type": "code",
   "execution_count": 23,
   "id": "9ad4e445",
   "metadata": {},
   "outputs": [
    {
     "data": {
      "text/plain": [
       "11505    Maithili\n",
       "50756     Punjabi\n",
       "37758     Kannada\n",
       "28910     Bengali\n",
       "70287       Oriya\n",
       "           ...   \n",
       "21440    Gujarati\n",
       "73350      Telugu\n",
       "50058     Punjabi\n",
       "5192     Kashmiri\n",
       "77709     Marathi\n",
       "Name: Language Main, Length: 65332, dtype: object"
      ]
     },
     "execution_count": 23,
     "metadata": {},
     "output_type": "execute_result"
    }
   ],
   "source": [
    "y_train"
   ]
  },
  {
   "cell_type": "code",
   "execution_count": 24,
   "id": "93450144",
   "metadata": {},
   "outputs": [
    {
     "data": {
      "text/plain": [
       "(9801, 4053)"
      ]
     },
     "execution_count": 24,
     "metadata": {},
     "output_type": "execute_result"
    }
   ],
   "source": [
    "x_valid.shape"
   ]
  },
  {
   "cell_type": "code",
   "execution_count": 25,
   "id": "f3311d1a",
   "metadata": {},
   "outputs": [
    {
     "data": {
      "text/plain": [
       "(6533, 4053)"
      ]
     },
     "execution_count": 25,
     "metadata": {},
     "output_type": "execute_result"
    }
   ],
   "source": [
    "x_test.shape"
   ]
  },
  {
   "cell_type": "code",
   "execution_count": 26,
   "id": "59daea75",
   "metadata": {},
   "outputs": [],
   "source": [
    "y_train = y_train.values.reshape(-1,1)"
   ]
  },
  {
   "cell_type": "code",
   "execution_count": 27,
   "id": "762c6d82",
   "metadata": {},
   "outputs": [],
   "source": [
    "y_test = y_test.values.reshape(-1,1)"
   ]
  },
  {
   "cell_type": "code",
   "execution_count": 28,
   "id": "5d3092c6",
   "metadata": {},
   "outputs": [
    {
     "data": {
      "text/plain": [
       "(65332, 1)"
      ]
     },
     "execution_count": 28,
     "metadata": {},
     "output_type": "execute_result"
    }
   ],
   "source": [
    "y_train.shape"
   ]
  },
  {
   "cell_type": "code",
   "execution_count": 29,
   "id": "0be0c5aa",
   "metadata": {},
   "outputs": [
    {
     "data": {
      "text/plain": [
       "(6533, 1)"
      ]
     },
     "execution_count": 29,
     "metadata": {},
     "output_type": "execute_result"
    }
   ],
   "source": [
    "y_test.shape"
   ]
  },
  {
   "cell_type": "code",
   "execution_count": 30,
   "id": "29e8664f",
   "metadata": {},
   "outputs": [
    {
     "data": {
      "text/plain": [
       "array([['Konakani'],\n",
       "       ['Telugu'],\n",
       "       ['Maithili'],\n",
       "       ...,\n",
       "       ['Nepali'],\n",
       "       ['Tamil'],\n",
       "       ['Maithili']], dtype=object)"
      ]
     },
     "execution_count": 30,
     "metadata": {},
     "output_type": "execute_result"
    }
   ],
   "source": [
    "y_test"
   ]
  },
  {
   "cell_type": "code",
   "execution_count": 31,
   "id": "8265d212",
   "metadata": {},
   "outputs": [],
   "source": [
    "\n",
    "# model = BaggingClassifier(tree.DecisionTreeClassifier(random_state=1))\n",
    "# model.fit(x_train, y_train)\n",
    "# model.score(x_test,y_test)  "
   ]
  },
  {
   "cell_type": "code",
   "execution_count": 32,
   "id": "f6018d13",
   "metadata": {},
   "outputs": [],
   "source": [
    "\n",
    "# model0 = BaggingClassifier(tree.DecisionTreeClassifier(random_state=1))\n",
    "# model0.fit(x_train, y_train)\n",
    "# model0.score(x_valid,y_valid)"
   ]
  },
  {
   "cell_type": "code",
   "execution_count": 33,
   "id": "a6af8918",
   "metadata": {},
   "outputs": [
    {
     "name": "stderr",
     "output_type": "stream",
     "text": [
      "c:\\Users\\AjithKomuravelly\\AppData\\Local\\Programs\\Python\\Python37\\lib\\site-packages\\sklearn\\ensemble\\_bagging.py:719: DataConversionWarning: A column-vector y was passed when a 1d array was expected. Please change the shape of y to (n_samples, ), for example using ravel().\n",
      "  y = column_or_1d(y, warn=True)\n",
      "c:\\Users\\AjithKomuravelly\\AppData\\Local\\Programs\\Python\\Python37\\lib\\site-packages\\sklearn\\base.py:444: UserWarning: X has feature names, but BaggingClassifier was fitted without feature names\n",
      "  f\"X has feature names, but {self.__class__.__name__} was fitted without\"\n"
     ]
    },
    {
     "data": {
      "text/plain": [
       "0.9583715947352311"
      ]
     },
     "execution_count": 33,
     "metadata": {},
     "output_type": "execute_result"
    }
   ],
   "source": [
    "\n",
    "model = BaggingClassifier(RandomForestClassifier(random_state = 42))\n",
    "model.fit(x_train.values, y_train)\n",
    "model.score(x_valid,y_valid)"
   ]
  },
  {
   "cell_type": "code",
   "execution_count": 34,
   "id": "22b002b3",
   "metadata": {},
   "outputs": [
    {
     "name": "stderr",
     "output_type": "stream",
     "text": [
      "c:\\Users\\AjithKomuravelly\\AppData\\Local\\Programs\\Python\\Python37\\lib\\site-packages\\sklearn\\base.py:444: UserWarning: X has feature names, but BaggingClassifier was fitted without feature names\n",
      "  f\"X has feature names, but {self.__class__.__name__} was fitted without\"\n"
     ]
    }
   ],
   "source": [
    "y_pred=model.predict(x_test)  \n"
   ]
  },
  {
   "cell_type": "code",
   "execution_count": 35,
   "id": "4df8ae91",
   "metadata": {},
   "outputs": [
    {
     "name": "stderr",
     "output_type": "stream",
     "text": [
      "c:\\Users\\AjithKomuravelly\\AppData\\Local\\Programs\\Python\\Python37\\lib\\site-packages\\sklearn\\base.py:444: UserWarning: X has feature names, but BaggingClassifier was fitted without feature names\n",
      "  f\"X has feature names, but {self.__class__.__name__} was fitted without\"\n"
     ]
    }
   ],
   "source": [
    "Y_pred2 = model.predict(x_train)"
   ]
  },
  {
   "cell_type": "code",
   "execution_count": 36,
   "id": "ea79ef8b",
   "metadata": {},
   "outputs": [
    {
     "name": "stderr",
     "output_type": "stream",
     "text": [
      "c:\\Users\\AjithKomuravelly\\AppData\\Local\\Programs\\Python\\Python37\\lib\\site-packages\\sklearn\\base.py:444: UserWarning: X has feature names, but BaggingClassifier was fitted without feature names\n",
      "  f\"X has feature names, but {self.__class__.__name__} was fitted without\"\n"
     ]
    },
    {
     "name": "stdout",
     "output_type": "stream",
     "text": [
      "TRAIN accuracy: 0.99\n",
      "TEST accuracy: 0.96\n",
      "              precision    recall  f1-score   support\n",
      "\n",
      "    Assamese       0.95      0.79      0.86       235\n",
      "     Bengali       0.96      1.00      0.98       503\n",
      "    Gujarati       1.00      0.84      0.91       278\n",
      "     Kannada       0.90      0.86      0.88       444\n",
      "    Kashmiri       1.00      1.00      1.00       424\n",
      "    Konakani       1.00      1.00      1.00       408\n",
      "    Maithili       0.88      0.99      0.94       519\n",
      "   Malayalam       1.00      1.00      1.00       446\n",
      "    Manipuri       1.00      1.00      1.00       452\n",
      "     Marathi       1.00      0.89      0.94       306\n",
      "      Nepali       0.99      1.00      0.99       447\n",
      "       Oriya       1.00      1.00      1.00       321\n",
      "     Punjabi       0.92      0.98      0.95       606\n",
      "      Sindhi       0.95      0.81      0.87       277\n",
      "       Tamil       1.00      1.00      1.00       367\n",
      "      Telugu       0.92      1.00      0.96       500\n",
      "\n",
      "    accuracy                           0.96      6533\n",
      "   macro avg       0.97      0.95      0.95      6533\n",
      "weighted avg       0.96      0.96      0.96      6533\n",
      "\n"
     ]
    }
   ],
   "source": [
    "\n",
    "\n",
    "print(\"TRAIN accuracy:\",np.round(accuracy_score(y_train,model.predict(x_train)),2))\n",
    "print(\"TEST accuracy:\",np.round(accuracy_score(y_test,y_pred),2))\n",
    "print( classification_report(y_test,y_pred))"
   ]
  },
  {
   "cell_type": "code",
   "execution_count": 37,
   "id": "5ecc2240",
   "metadata": {},
   "outputs": [
    {
     "data": {
      "text/plain": [
       "array(['Maithili', 'Punjabi', 'Kannada', ..., 'Punjabi', 'Kashmiri',\n",
       "       'Marathi'], dtype=object)"
      ]
     },
     "execution_count": 37,
     "metadata": {},
     "output_type": "execute_result"
    }
   ],
   "source": [
    "Y_pred2"
   ]
  },
  {
   "cell_type": "code",
   "execution_count": 38,
   "id": "b2e2d045",
   "metadata": {
    "scrolled": true
   },
   "outputs": [
    {
     "data": {
      "text/plain": [
       "array(['Konakani', 'Telugu', 'Maithili', ..., 'Nepali', 'Tamil',\n",
       "       'Maithili'], dtype=object)"
      ]
     },
     "execution_count": 38,
     "metadata": {},
     "output_type": "execute_result"
    }
   ],
   "source": [
    "y_pred"
   ]
  },
  {
   "cell_type": "code",
   "execution_count": 39,
   "id": "949c1652",
   "metadata": {},
   "outputs": [
    {
     "name": "stdout",
     "output_type": "stream",
     "text": [
      "0.9603551201591918\n"
     ]
    }
   ],
   "source": [
    "from sklearn.metrics import accuracy_score\n",
    "print(accuracy_score(y_test,y_pred))"
   ]
  },
  {
   "cell_type": "code",
   "execution_count": 40,
   "id": "b6090529",
   "metadata": {},
   "outputs": [
    {
     "name": "stderr",
     "output_type": "stream",
     "text": [
      "c:\\Users\\AjithKomuravelly\\AppData\\Local\\Programs\\Python\\Python37\\lib\\site-packages\\sklearn\\base.py:444: UserWarning: X has feature names, but BaggingClassifier was fitted without feature names\n",
      "  f\"X has feature names, but {self.__class__.__name__} was fitted without\"\n"
     ]
    }
   ],
   "source": [
    "y_val=model.predict(x_valid)"
   ]
  },
  {
   "cell_type": "code",
   "execution_count": 41,
   "id": "56e3aa2c",
   "metadata": {},
   "outputs": [
    {
     "name": "stdout",
     "output_type": "stream",
     "text": [
      "0.9583715947352311\n"
     ]
    }
   ],
   "source": [
    "from sklearn.metrics import accuracy_score\n",
    "print(accuracy_score(y_valid,y_val))"
   ]
  },
  {
   "cell_type": "code",
   "execution_count": null,
   "id": "c5a94647",
   "metadata": {},
   "outputs": [],
   "source": []
  },
  {
   "cell_type": "code",
   "execution_count": 42,
   "id": "3dfd739c",
   "metadata": {},
   "outputs": [],
   "source": [
    "df_test=pd.DataFrame(y_test)"
   ]
  },
  {
   "cell_type": "code",
   "execution_count": 43,
   "id": "f9e6f06d",
   "metadata": {},
   "outputs": [
    {
     "data": {
      "text/html": [
       "<div>\n",
       "<style scoped>\n",
       "    .dataframe tbody tr th:only-of-type {\n",
       "        vertical-align: middle;\n",
       "    }\n",
       "\n",
       "    .dataframe tbody tr th {\n",
       "        vertical-align: top;\n",
       "    }\n",
       "\n",
       "    .dataframe thead th {\n",
       "        text-align: right;\n",
       "    }\n",
       "</style>\n",
       "<table border=\"1\" class=\"dataframe\">\n",
       "  <thead>\n",
       "    <tr style=\"text-align: right;\">\n",
       "      <th></th>\n",
       "      <th>0</th>\n",
       "    </tr>\n",
       "  </thead>\n",
       "  <tbody>\n",
       "    <tr>\n",
       "      <th>0</th>\n",
       "      <td>Konakani</td>\n",
       "    </tr>\n",
       "    <tr>\n",
       "      <th>1</th>\n",
       "      <td>Telugu</td>\n",
       "    </tr>\n",
       "    <tr>\n",
       "      <th>2</th>\n",
       "      <td>Maithili</td>\n",
       "    </tr>\n",
       "    <tr>\n",
       "      <th>3</th>\n",
       "      <td>Punjabi</td>\n",
       "    </tr>\n",
       "    <tr>\n",
       "      <th>4</th>\n",
       "      <td>Nepali</td>\n",
       "    </tr>\n",
       "    <tr>\n",
       "      <th>...</th>\n",
       "      <td>...</td>\n",
       "    </tr>\n",
       "    <tr>\n",
       "      <th>6528</th>\n",
       "      <td>Oriya</td>\n",
       "    </tr>\n",
       "    <tr>\n",
       "      <th>6529</th>\n",
       "      <td>Sindhi</td>\n",
       "    </tr>\n",
       "    <tr>\n",
       "      <th>6530</th>\n",
       "      <td>Nepali</td>\n",
       "    </tr>\n",
       "    <tr>\n",
       "      <th>6531</th>\n",
       "      <td>Tamil</td>\n",
       "    </tr>\n",
       "    <tr>\n",
       "      <th>6532</th>\n",
       "      <td>Maithili</td>\n",
       "    </tr>\n",
       "  </tbody>\n",
       "</table>\n",
       "<p>6533 rows × 1 columns</p>\n",
       "</div>"
      ],
      "text/plain": [
       "             0\n",
       "0     Konakani\n",
       "1       Telugu\n",
       "2     Maithili\n",
       "3      Punjabi\n",
       "4       Nepali\n",
       "...        ...\n",
       "6528     Oriya\n",
       "6529    Sindhi\n",
       "6530    Nepali\n",
       "6531     Tamil\n",
       "6532  Maithili\n",
       "\n",
       "[6533 rows x 1 columns]"
      ]
     },
     "execution_count": 43,
     "metadata": {},
     "output_type": "execute_result"
    }
   ],
   "source": [
    "df_test"
   ]
  },
  {
   "cell_type": "code",
   "execution_count": 44,
   "id": "dee33c36",
   "metadata": {},
   "outputs": [
    {
     "data": {
      "text/html": [
       "<div>\n",
       "<style scoped>\n",
       "    .dataframe tbody tr th:only-of-type {\n",
       "        vertical-align: middle;\n",
       "    }\n",
       "\n",
       "    .dataframe tbody tr th {\n",
       "        vertical-align: top;\n",
       "    }\n",
       "\n",
       "    .dataframe thead th {\n",
       "        text-align: right;\n",
       "    }\n",
       "</style>\n",
       "<table border=\"1\" class=\"dataframe\">\n",
       "  <thead>\n",
       "    <tr style=\"text-align: right;\">\n",
       "      <th></th>\n",
       "      <th>y_test</th>\n",
       "    </tr>\n",
       "  </thead>\n",
       "  <tbody>\n",
       "    <tr>\n",
       "      <th>0</th>\n",
       "      <td>Konakani</td>\n",
       "    </tr>\n",
       "    <tr>\n",
       "      <th>1</th>\n",
       "      <td>Telugu</td>\n",
       "    </tr>\n",
       "    <tr>\n",
       "      <th>2</th>\n",
       "      <td>Maithili</td>\n",
       "    </tr>\n",
       "    <tr>\n",
       "      <th>3</th>\n",
       "      <td>Punjabi</td>\n",
       "    </tr>\n",
       "    <tr>\n",
       "      <th>4</th>\n",
       "      <td>Nepali</td>\n",
       "    </tr>\n",
       "    <tr>\n",
       "      <th>...</th>\n",
       "      <td>...</td>\n",
       "    </tr>\n",
       "    <tr>\n",
       "      <th>6528</th>\n",
       "      <td>Oriya</td>\n",
       "    </tr>\n",
       "    <tr>\n",
       "      <th>6529</th>\n",
       "      <td>Sindhi</td>\n",
       "    </tr>\n",
       "    <tr>\n",
       "      <th>6530</th>\n",
       "      <td>Nepali</td>\n",
       "    </tr>\n",
       "    <tr>\n",
       "      <th>6531</th>\n",
       "      <td>Tamil</td>\n",
       "    </tr>\n",
       "    <tr>\n",
       "      <th>6532</th>\n",
       "      <td>Maithili</td>\n",
       "    </tr>\n",
       "  </tbody>\n",
       "</table>\n",
       "<p>6533 rows × 1 columns</p>\n",
       "</div>"
      ],
      "text/plain": [
       "        y_test\n",
       "0     Konakani\n",
       "1       Telugu\n",
       "2     Maithili\n",
       "3      Punjabi\n",
       "4       Nepali\n",
       "...        ...\n",
       "6528     Oriya\n",
       "6529    Sindhi\n",
       "6530    Nepali\n",
       "6531     Tamil\n",
       "6532  Maithili\n",
       "\n",
       "[6533 rows x 1 columns]"
      ]
     },
     "execution_count": 44,
     "metadata": {},
     "output_type": "execute_result"
    }
   ],
   "source": [
    "df_test.columns=['y_test']\n",
    "df_test"
   ]
  },
  {
   "cell_type": "code",
   "execution_count": 45,
   "id": "efe2a6a9",
   "metadata": {},
   "outputs": [],
   "source": [
    "df_pred =pd.DataFrame(y_pred)"
   ]
  },
  {
   "cell_type": "code",
   "execution_count": 46,
   "id": "b3775163",
   "metadata": {},
   "outputs": [
    {
     "data": {
      "text/html": [
       "<div>\n",
       "<style scoped>\n",
       "    .dataframe tbody tr th:only-of-type {\n",
       "        vertical-align: middle;\n",
       "    }\n",
       "\n",
       "    .dataframe tbody tr th {\n",
       "        vertical-align: top;\n",
       "    }\n",
       "\n",
       "    .dataframe thead th {\n",
       "        text-align: right;\n",
       "    }\n",
       "</style>\n",
       "<table border=\"1\" class=\"dataframe\">\n",
       "  <thead>\n",
       "    <tr style=\"text-align: right;\">\n",
       "      <th></th>\n",
       "      <th>0</th>\n",
       "    </tr>\n",
       "  </thead>\n",
       "  <tbody>\n",
       "    <tr>\n",
       "      <th>0</th>\n",
       "      <td>Konakani</td>\n",
       "    </tr>\n",
       "    <tr>\n",
       "      <th>1</th>\n",
       "      <td>Telugu</td>\n",
       "    </tr>\n",
       "    <tr>\n",
       "      <th>2</th>\n",
       "      <td>Maithili</td>\n",
       "    </tr>\n",
       "    <tr>\n",
       "      <th>3</th>\n",
       "      <td>Punjabi</td>\n",
       "    </tr>\n",
       "    <tr>\n",
       "      <th>4</th>\n",
       "      <td>Nepali</td>\n",
       "    </tr>\n",
       "    <tr>\n",
       "      <th>...</th>\n",
       "      <td>...</td>\n",
       "    </tr>\n",
       "    <tr>\n",
       "      <th>6528</th>\n",
       "      <td>Oriya</td>\n",
       "    </tr>\n",
       "    <tr>\n",
       "      <th>6529</th>\n",
       "      <td>Sindhi</td>\n",
       "    </tr>\n",
       "    <tr>\n",
       "      <th>6530</th>\n",
       "      <td>Nepali</td>\n",
       "    </tr>\n",
       "    <tr>\n",
       "      <th>6531</th>\n",
       "      <td>Tamil</td>\n",
       "    </tr>\n",
       "    <tr>\n",
       "      <th>6532</th>\n",
       "      <td>Maithili</td>\n",
       "    </tr>\n",
       "  </tbody>\n",
       "</table>\n",
       "<p>6533 rows × 1 columns</p>\n",
       "</div>"
      ],
      "text/plain": [
       "             0\n",
       "0     Konakani\n",
       "1       Telugu\n",
       "2     Maithili\n",
       "3      Punjabi\n",
       "4       Nepali\n",
       "...        ...\n",
       "6528     Oriya\n",
       "6529    Sindhi\n",
       "6530    Nepali\n",
       "6531     Tamil\n",
       "6532  Maithili\n",
       "\n",
       "[6533 rows x 1 columns]"
      ]
     },
     "execution_count": 46,
     "metadata": {},
     "output_type": "execute_result"
    }
   ],
   "source": [
    "df_pred"
   ]
  },
  {
   "cell_type": "code",
   "execution_count": 47,
   "id": "30923b5f",
   "metadata": {},
   "outputs": [
    {
     "data": {
      "text/html": [
       "<div>\n",
       "<style scoped>\n",
       "    .dataframe tbody tr th:only-of-type {\n",
       "        vertical-align: middle;\n",
       "    }\n",
       "\n",
       "    .dataframe tbody tr th {\n",
       "        vertical-align: top;\n",
       "    }\n",
       "\n",
       "    .dataframe thead th {\n",
       "        text-align: right;\n",
       "    }\n",
       "</style>\n",
       "<table border=\"1\" class=\"dataframe\">\n",
       "  <thead>\n",
       "    <tr style=\"text-align: right;\">\n",
       "      <th></th>\n",
       "      <th>y_pred</th>\n",
       "    </tr>\n",
       "  </thead>\n",
       "  <tbody>\n",
       "    <tr>\n",
       "      <th>0</th>\n",
       "      <td>Konakani</td>\n",
       "    </tr>\n",
       "    <tr>\n",
       "      <th>1</th>\n",
       "      <td>Telugu</td>\n",
       "    </tr>\n",
       "    <tr>\n",
       "      <th>2</th>\n",
       "      <td>Maithili</td>\n",
       "    </tr>\n",
       "    <tr>\n",
       "      <th>3</th>\n",
       "      <td>Punjabi</td>\n",
       "    </tr>\n",
       "    <tr>\n",
       "      <th>4</th>\n",
       "      <td>Nepali</td>\n",
       "    </tr>\n",
       "    <tr>\n",
       "      <th>...</th>\n",
       "      <td>...</td>\n",
       "    </tr>\n",
       "    <tr>\n",
       "      <th>6528</th>\n",
       "      <td>Oriya</td>\n",
       "    </tr>\n",
       "    <tr>\n",
       "      <th>6529</th>\n",
       "      <td>Sindhi</td>\n",
       "    </tr>\n",
       "    <tr>\n",
       "      <th>6530</th>\n",
       "      <td>Nepali</td>\n",
       "    </tr>\n",
       "    <tr>\n",
       "      <th>6531</th>\n",
       "      <td>Tamil</td>\n",
       "    </tr>\n",
       "    <tr>\n",
       "      <th>6532</th>\n",
       "      <td>Maithili</td>\n",
       "    </tr>\n",
       "  </tbody>\n",
       "</table>\n",
       "<p>6533 rows × 1 columns</p>\n",
       "</div>"
      ],
      "text/plain": [
       "        y_pred\n",
       "0     Konakani\n",
       "1       Telugu\n",
       "2     Maithili\n",
       "3      Punjabi\n",
       "4       Nepali\n",
       "...        ...\n",
       "6528     Oriya\n",
       "6529    Sindhi\n",
       "6530    Nepali\n",
       "6531     Tamil\n",
       "6532  Maithili\n",
       "\n",
       "[6533 rows x 1 columns]"
      ]
     },
     "execution_count": 47,
     "metadata": {},
     "output_type": "execute_result"
    }
   ],
   "source": [
    "df_pred.columns=['y_pred']\n",
    "df_pred"
   ]
  },
  {
   "cell_type": "code",
   "execution_count": 48,
   "id": "80009b88",
   "metadata": {},
   "outputs": [],
   "source": [
    "z=pd.concat([df_pred.reset_index(drop=True),df_test.reset_index(drop=True)],axis=1)"
   ]
  },
  {
   "cell_type": "code",
   "execution_count": 49,
   "id": "5ffc747f",
   "metadata": {},
   "outputs": [
    {
     "data": {
      "text/html": [
       "<div>\n",
       "<style scoped>\n",
       "    .dataframe tbody tr th:only-of-type {\n",
       "        vertical-align: middle;\n",
       "    }\n",
       "\n",
       "    .dataframe tbody tr th {\n",
       "        vertical-align: top;\n",
       "    }\n",
       "\n",
       "    .dataframe thead th {\n",
       "        text-align: right;\n",
       "    }\n",
       "</style>\n",
       "<table border=\"1\" class=\"dataframe\">\n",
       "  <thead>\n",
       "    <tr style=\"text-align: right;\">\n",
       "      <th></th>\n",
       "      <th>y_pred</th>\n",
       "      <th>y_test</th>\n",
       "    </tr>\n",
       "  </thead>\n",
       "  <tbody>\n",
       "    <tr>\n",
       "      <th>0</th>\n",
       "      <td>Konakani</td>\n",
       "      <td>Konakani</td>\n",
       "    </tr>\n",
       "    <tr>\n",
       "      <th>1</th>\n",
       "      <td>Telugu</td>\n",
       "      <td>Telugu</td>\n",
       "    </tr>\n",
       "    <tr>\n",
       "      <th>2</th>\n",
       "      <td>Maithili</td>\n",
       "      <td>Maithili</td>\n",
       "    </tr>\n",
       "    <tr>\n",
       "      <th>3</th>\n",
       "      <td>Punjabi</td>\n",
       "      <td>Punjabi</td>\n",
       "    </tr>\n",
       "    <tr>\n",
       "      <th>4</th>\n",
       "      <td>Nepali</td>\n",
       "      <td>Nepali</td>\n",
       "    </tr>\n",
       "    <tr>\n",
       "      <th>...</th>\n",
       "      <td>...</td>\n",
       "      <td>...</td>\n",
       "    </tr>\n",
       "    <tr>\n",
       "      <th>6528</th>\n",
       "      <td>Oriya</td>\n",
       "      <td>Oriya</td>\n",
       "    </tr>\n",
       "    <tr>\n",
       "      <th>6529</th>\n",
       "      <td>Sindhi</td>\n",
       "      <td>Sindhi</td>\n",
       "    </tr>\n",
       "    <tr>\n",
       "      <th>6530</th>\n",
       "      <td>Nepali</td>\n",
       "      <td>Nepali</td>\n",
       "    </tr>\n",
       "    <tr>\n",
       "      <th>6531</th>\n",
       "      <td>Tamil</td>\n",
       "      <td>Tamil</td>\n",
       "    </tr>\n",
       "    <tr>\n",
       "      <th>6532</th>\n",
       "      <td>Maithili</td>\n",
       "      <td>Maithili</td>\n",
       "    </tr>\n",
       "  </tbody>\n",
       "</table>\n",
       "<p>6533 rows × 2 columns</p>\n",
       "</div>"
      ],
      "text/plain": [
       "        y_pred    y_test\n",
       "0     Konakani  Konakani\n",
       "1       Telugu    Telugu\n",
       "2     Maithili  Maithili\n",
       "3      Punjabi   Punjabi\n",
       "4       Nepali    Nepali\n",
       "...        ...       ...\n",
       "6528     Oriya     Oriya\n",
       "6529    Sindhi    Sindhi\n",
       "6530    Nepali    Nepali\n",
       "6531     Tamil     Tamil\n",
       "6532  Maithili  Maithili\n",
       "\n",
       "[6533 rows x 2 columns]"
      ]
     },
     "execution_count": 49,
     "metadata": {},
     "output_type": "execute_result"
    }
   ],
   "source": [
    "z"
   ]
  },
  {
   "cell_type": "code",
   "execution_count": 50,
   "id": "cf173613",
   "metadata": {},
   "outputs": [],
   "source": [
    "z['equal']=(z['y_test']==z['y_pred'])"
   ]
  },
  {
   "cell_type": "code",
   "execution_count": 51,
   "id": "76e92210",
   "metadata": {},
   "outputs": [
    {
     "data": {
      "text/html": [
       "<div>\n",
       "<style scoped>\n",
       "    .dataframe tbody tr th:only-of-type {\n",
       "        vertical-align: middle;\n",
       "    }\n",
       "\n",
       "    .dataframe tbody tr th {\n",
       "        vertical-align: top;\n",
       "    }\n",
       "\n",
       "    .dataframe thead th {\n",
       "        text-align: right;\n",
       "    }\n",
       "</style>\n",
       "<table border=\"1\" class=\"dataframe\">\n",
       "  <thead>\n",
       "    <tr style=\"text-align: right;\">\n",
       "      <th></th>\n",
       "      <th>y_pred</th>\n",
       "      <th>y_test</th>\n",
       "      <th>equal</th>\n",
       "    </tr>\n",
       "  </thead>\n",
       "  <tbody>\n",
       "    <tr>\n",
       "      <th>0</th>\n",
       "      <td>Konakani</td>\n",
       "      <td>Konakani</td>\n",
       "      <td>True</td>\n",
       "    </tr>\n",
       "    <tr>\n",
       "      <th>1</th>\n",
       "      <td>Telugu</td>\n",
       "      <td>Telugu</td>\n",
       "      <td>True</td>\n",
       "    </tr>\n",
       "    <tr>\n",
       "      <th>2</th>\n",
       "      <td>Maithili</td>\n",
       "      <td>Maithili</td>\n",
       "      <td>True</td>\n",
       "    </tr>\n",
       "    <tr>\n",
       "      <th>3</th>\n",
       "      <td>Punjabi</td>\n",
       "      <td>Punjabi</td>\n",
       "      <td>True</td>\n",
       "    </tr>\n",
       "    <tr>\n",
       "      <th>4</th>\n",
       "      <td>Nepali</td>\n",
       "      <td>Nepali</td>\n",
       "      <td>True</td>\n",
       "    </tr>\n",
       "    <tr>\n",
       "      <th>...</th>\n",
       "      <td>...</td>\n",
       "      <td>...</td>\n",
       "      <td>...</td>\n",
       "    </tr>\n",
       "    <tr>\n",
       "      <th>6528</th>\n",
       "      <td>Oriya</td>\n",
       "      <td>Oriya</td>\n",
       "      <td>True</td>\n",
       "    </tr>\n",
       "    <tr>\n",
       "      <th>6529</th>\n",
       "      <td>Sindhi</td>\n",
       "      <td>Sindhi</td>\n",
       "      <td>True</td>\n",
       "    </tr>\n",
       "    <tr>\n",
       "      <th>6530</th>\n",
       "      <td>Nepali</td>\n",
       "      <td>Nepali</td>\n",
       "      <td>True</td>\n",
       "    </tr>\n",
       "    <tr>\n",
       "      <th>6531</th>\n",
       "      <td>Tamil</td>\n",
       "      <td>Tamil</td>\n",
       "      <td>True</td>\n",
       "    </tr>\n",
       "    <tr>\n",
       "      <th>6532</th>\n",
       "      <td>Maithili</td>\n",
       "      <td>Maithili</td>\n",
       "      <td>True</td>\n",
       "    </tr>\n",
       "  </tbody>\n",
       "</table>\n",
       "<p>6533 rows × 3 columns</p>\n",
       "</div>"
      ],
      "text/plain": [
       "        y_pred    y_test  equal\n",
       "0     Konakani  Konakani   True\n",
       "1       Telugu    Telugu   True\n",
       "2     Maithili  Maithili   True\n",
       "3      Punjabi   Punjabi   True\n",
       "4       Nepali    Nepali   True\n",
       "...        ...       ...    ...\n",
       "6528     Oriya     Oriya   True\n",
       "6529    Sindhi    Sindhi   True\n",
       "6530    Nepali    Nepali   True\n",
       "6531     Tamil     Tamil   True\n",
       "6532  Maithili  Maithili   True\n",
       "\n",
       "[6533 rows x 3 columns]"
      ]
     },
     "execution_count": 51,
     "metadata": {},
     "output_type": "execute_result"
    }
   ],
   "source": [
    "z"
   ]
  },
  {
   "cell_type": "code",
   "execution_count": 52,
   "id": "da3817a8",
   "metadata": {},
   "outputs": [
    {
     "name": "stdout",
     "output_type": "stream",
     "text": [
      "259\n"
     ]
    }
   ],
   "source": [
    "count=0\n",
    "for i in z['equal']:\n",
    "    if (i==False):\n",
    "        count+=1\n",
    "print(count)"
   ]
  },
  {
   "cell_type": "code",
   "execution_count": 53,
   "id": "39439236",
   "metadata": {},
   "outputs": [],
   "source": [
    "# 252 - false\n",
    "# 6281 - True"
   ]
  },
  {
   "cell_type": "code",
   "execution_count": 54,
   "id": "66fd6aff",
   "metadata": {},
   "outputs": [
    {
     "data": {
      "text/plain": [
       "True     6274\n",
       "False     259\n",
       "Name: equal, dtype: int64"
      ]
     },
     "execution_count": 54,
     "metadata": {},
     "output_type": "execute_result"
    }
   ],
   "source": [
    "z['equal'].value_counts()"
   ]
  },
  {
   "cell_type": "code",
   "execution_count": 55,
   "id": "86f7c810",
   "metadata": {},
   "outputs": [],
   "source": [
    "# FOR VALIDATION sET"
   ]
  },
  {
   "cell_type": "code",
   "execution_count": 56,
   "id": "ae148793",
   "metadata": {},
   "outputs": [
    {
     "data": {
      "text/plain": [
       "<AxesSubplot:>"
      ]
     },
     "execution_count": 56,
     "metadata": {},
     "output_type": "execute_result"
    },
    {
     "data": {
      "image/png": "[encoded data removed]",
      "text/plain": [
       "<Figure size 640x480 with 1 Axes>"
      ]
     },
     "metadata": {},
     "output_type": "display_data"
    }
   ],
   "source": [
    "z['equal'].value_counts().plot.bar()"
   ]
  },
  {
   "cell_type": "code",
   "execution_count": null,
   "id": "4d3cc784",
   "metadata": {},
   "outputs": [],
   "source": []
  },
  {
   "cell_type": "code",
   "execution_count": 57,
   "id": "568c3de0",
   "metadata": {},
   "outputs": [],
   "source": [
    "ae=pd.DataFrame(y_val)"
   ]
  },
  {
   "cell_type": "code",
   "execution_count": 58,
   "id": "c491bfc6",
   "metadata": {},
   "outputs": [
    {
     "data": {
      "text/html": [
       "<div>\n",
       "<style scoped>\n",
       "    .dataframe tbody tr th:only-of-type {\n",
       "        vertical-align: middle;\n",
       "    }\n",
       "\n",
       "    .dataframe tbody tr th {\n",
       "        vertical-align: top;\n",
       "    }\n",
       "\n",
       "    .dataframe thead th {\n",
       "        text-align: right;\n",
       "    }\n",
       "</style>\n",
       "<table border=\"1\" class=\"dataframe\">\n",
       "  <thead>\n",
       "    <tr style=\"text-align: right;\">\n",
       "      <th></th>\n",
       "      <th>0</th>\n",
       "    </tr>\n",
       "  </thead>\n",
       "  <tbody>\n",
       "    <tr>\n",
       "      <th>0</th>\n",
       "      <td>Telugu</td>\n",
       "    </tr>\n",
       "    <tr>\n",
       "      <th>1</th>\n",
       "      <td>Bengali</td>\n",
       "    </tr>\n",
       "    <tr>\n",
       "      <th>2</th>\n",
       "      <td>Manipuri</td>\n",
       "    </tr>\n",
       "    <tr>\n",
       "      <th>3</th>\n",
       "      <td>Konakani</td>\n",
       "    </tr>\n",
       "    <tr>\n",
       "      <th>4</th>\n",
       "      <td>Kannada</td>\n",
       "    </tr>\n",
       "    <tr>\n",
       "      <th>...</th>\n",
       "      <td>...</td>\n",
       "    </tr>\n",
       "    <tr>\n",
       "      <th>9796</th>\n",
       "      <td>Sindhi</td>\n",
       "    </tr>\n",
       "    <tr>\n",
       "      <th>9797</th>\n",
       "      <td>Kashmiri</td>\n",
       "    </tr>\n",
       "    <tr>\n",
       "      <th>9798</th>\n",
       "      <td>Manipuri</td>\n",
       "    </tr>\n",
       "    <tr>\n",
       "      <th>9799</th>\n",
       "      <td>Manipuri</td>\n",
       "    </tr>\n",
       "    <tr>\n",
       "      <th>9800</th>\n",
       "      <td>Oriya</td>\n",
       "    </tr>\n",
       "  </tbody>\n",
       "</table>\n",
       "<p>9801 rows × 1 columns</p>\n",
       "</div>"
      ],
      "text/plain": [
       "             0\n",
       "0       Telugu\n",
       "1      Bengali\n",
       "2     Manipuri\n",
       "3     Konakani\n",
       "4      Kannada\n",
       "...        ...\n",
       "9796    Sindhi\n",
       "9797  Kashmiri\n",
       "9798  Manipuri\n",
       "9799  Manipuri\n",
       "9800     Oriya\n",
       "\n",
       "[9801 rows x 1 columns]"
      ]
     },
     "execution_count": 58,
     "metadata": {},
     "output_type": "execute_result"
    }
   ],
   "source": [
    "ae"
   ]
  },
  {
   "cell_type": "code",
   "execution_count": 59,
   "id": "7858da53",
   "metadata": {},
   "outputs": [],
   "source": [
    "ae.columns=['y_val']"
   ]
  },
  {
   "cell_type": "code",
   "execution_count": 60,
   "id": "c40a775c",
   "metadata": {},
   "outputs": [
    {
     "data": {
      "text/html": [
       "<div>\n",
       "<style scoped>\n",
       "    .dataframe tbody tr th:only-of-type {\n",
       "        vertical-align: middle;\n",
       "    }\n",
       "\n",
       "    .dataframe tbody tr th {\n",
       "        vertical-align: top;\n",
       "    }\n",
       "\n",
       "    .dataframe thead th {\n",
       "        text-align: right;\n",
       "    }\n",
       "</style>\n",
       "<table border=\"1\" class=\"dataframe\">\n",
       "  <thead>\n",
       "    <tr style=\"text-align: right;\">\n",
       "      <th></th>\n",
       "      <th>y_val</th>\n",
       "    </tr>\n",
       "  </thead>\n",
       "  <tbody>\n",
       "    <tr>\n",
       "      <th>0</th>\n",
       "      <td>Telugu</td>\n",
       "    </tr>\n",
       "    <tr>\n",
       "      <th>1</th>\n",
       "      <td>Bengali</td>\n",
       "    </tr>\n",
       "    <tr>\n",
       "      <th>2</th>\n",
       "      <td>Manipuri</td>\n",
       "    </tr>\n",
       "    <tr>\n",
       "      <th>3</th>\n",
       "      <td>Konakani</td>\n",
       "    </tr>\n",
       "    <tr>\n",
       "      <th>4</th>\n",
       "      <td>Kannada</td>\n",
       "    </tr>\n",
       "    <tr>\n",
       "      <th>...</th>\n",
       "      <td>...</td>\n",
       "    </tr>\n",
       "    <tr>\n",
       "      <th>9796</th>\n",
       "      <td>Sindhi</td>\n",
       "    </tr>\n",
       "    <tr>\n",
       "      <th>9797</th>\n",
       "      <td>Kashmiri</td>\n",
       "    </tr>\n",
       "    <tr>\n",
       "      <th>9798</th>\n",
       "      <td>Manipuri</td>\n",
       "    </tr>\n",
       "    <tr>\n",
       "      <th>9799</th>\n",
       "      <td>Manipuri</td>\n",
       "    </tr>\n",
       "    <tr>\n",
       "      <th>9800</th>\n",
       "      <td>Oriya</td>\n",
       "    </tr>\n",
       "  </tbody>\n",
       "</table>\n",
       "<p>9801 rows × 1 columns</p>\n",
       "</div>"
      ],
      "text/plain": [
       "         y_val\n",
       "0       Telugu\n",
       "1      Bengali\n",
       "2     Manipuri\n",
       "3     Konakani\n",
       "4      Kannada\n",
       "...        ...\n",
       "9796    Sindhi\n",
       "9797  Kashmiri\n",
       "9798  Manipuri\n",
       "9799  Manipuri\n",
       "9800     Oriya\n",
       "\n",
       "[9801 rows x 1 columns]"
      ]
     },
     "execution_count": 60,
     "metadata": {},
     "output_type": "execute_result"
    }
   ],
   "source": [
    "ae"
   ]
  },
  {
   "cell_type": "code",
   "execution_count": 61,
   "id": "c759f317",
   "metadata": {},
   "outputs": [],
   "source": [
    "be=pd.DataFrame(y_valid)"
   ]
  },
  {
   "cell_type": "code",
   "execution_count": 62,
   "id": "69ba6d79",
   "metadata": {},
   "outputs": [
    {
     "data": {
      "text/html": [
       "<div>\n",
       "<style scoped>\n",
       "    .dataframe tbody tr th:only-of-type {\n",
       "        vertical-align: middle;\n",
       "    }\n",
       "\n",
       "    .dataframe tbody tr th {\n",
       "        vertical-align: top;\n",
       "    }\n",
       "\n",
       "    .dataframe thead th {\n",
       "        text-align: right;\n",
       "    }\n",
       "</style>\n",
       "<table border=\"1\" class=\"dataframe\">\n",
       "  <thead>\n",
       "    <tr style=\"text-align: right;\">\n",
       "      <th></th>\n",
       "      <th>Language Main</th>\n",
       "    </tr>\n",
       "  </thead>\n",
       "  <tbody>\n",
       "    <tr>\n",
       "      <th>39943</th>\n",
       "      <td>Kannada</td>\n",
       "    </tr>\n",
       "    <tr>\n",
       "      <th>28890</th>\n",
       "      <td>Bengali</td>\n",
       "    </tr>\n",
       "    <tr>\n",
       "      <th>42895</th>\n",
       "      <td>Manipuri</td>\n",
       "    </tr>\n",
       "    <tr>\n",
       "      <th>32286</th>\n",
       "      <td>Konakani</td>\n",
       "    </tr>\n",
       "    <tr>\n",
       "      <th>40125</th>\n",
       "      <td>Kannada</td>\n",
       "    </tr>\n",
       "    <tr>\n",
       "      <th>...</th>\n",
       "      <td>...</td>\n",
       "    </tr>\n",
       "    <tr>\n",
       "      <th>49060</th>\n",
       "      <td>Sindhi</td>\n",
       "    </tr>\n",
       "    <tr>\n",
       "      <th>2328</th>\n",
       "      <td>Kashmiri</td>\n",
       "    </tr>\n",
       "    <tr>\n",
       "      <th>42909</th>\n",
       "      <td>Manipuri</td>\n",
       "    </tr>\n",
       "    <tr>\n",
       "      <th>42891</th>\n",
       "      <td>Manipuri</td>\n",
       "    </tr>\n",
       "    <tr>\n",
       "      <th>68423</th>\n",
       "      <td>Oriya</td>\n",
       "    </tr>\n",
       "  </tbody>\n",
       "</table>\n",
       "<p>9801 rows × 1 columns</p>\n",
       "</div>"
      ],
      "text/plain": [
       "      Language Main\n",
       "39943       Kannada\n",
       "28890       Bengali\n",
       "42895      Manipuri\n",
       "32286      Konakani\n",
       "40125       Kannada\n",
       "...             ...\n",
       "49060        Sindhi\n",
       "2328       Kashmiri\n",
       "42909      Manipuri\n",
       "42891      Manipuri\n",
       "68423         Oriya\n",
       "\n",
       "[9801 rows x 1 columns]"
      ]
     },
     "execution_count": 62,
     "metadata": {},
     "output_type": "execute_result"
    }
   ],
   "source": [
    "be"
   ]
  },
  {
   "cell_type": "code",
   "execution_count": 63,
   "id": "fd7fa9af",
   "metadata": {},
   "outputs": [],
   "source": [
    "be.columns=['y_valid']"
   ]
  },
  {
   "cell_type": "code",
   "execution_count": 64,
   "id": "92606f2b",
   "metadata": {},
   "outputs": [
    {
     "data": {
      "text/html": [
       "<div>\n",
       "<style scoped>\n",
       "    .dataframe tbody tr th:only-of-type {\n",
       "        vertical-align: middle;\n",
       "    }\n",
       "\n",
       "    .dataframe tbody tr th {\n",
       "        vertical-align: top;\n",
       "    }\n",
       "\n",
       "    .dataframe thead th {\n",
       "        text-align: right;\n",
       "    }\n",
       "</style>\n",
       "<table border=\"1\" class=\"dataframe\">\n",
       "  <thead>\n",
       "    <tr style=\"text-align: right;\">\n",
       "      <th></th>\n",
       "      <th>y_valid</th>\n",
       "    </tr>\n",
       "  </thead>\n",
       "  <tbody>\n",
       "    <tr>\n",
       "      <th>39943</th>\n",
       "      <td>Kannada</td>\n",
       "    </tr>\n",
       "    <tr>\n",
       "      <th>28890</th>\n",
       "      <td>Bengali</td>\n",
       "    </tr>\n",
       "    <tr>\n",
       "      <th>42895</th>\n",
       "      <td>Manipuri</td>\n",
       "    </tr>\n",
       "    <tr>\n",
       "      <th>32286</th>\n",
       "      <td>Konakani</td>\n",
       "    </tr>\n",
       "    <tr>\n",
       "      <th>40125</th>\n",
       "      <td>Kannada</td>\n",
       "    </tr>\n",
       "    <tr>\n",
       "      <th>...</th>\n",
       "      <td>...</td>\n",
       "    </tr>\n",
       "    <tr>\n",
       "      <th>49060</th>\n",
       "      <td>Sindhi</td>\n",
       "    </tr>\n",
       "    <tr>\n",
       "      <th>2328</th>\n",
       "      <td>Kashmiri</td>\n",
       "    </tr>\n",
       "    <tr>\n",
       "      <th>42909</th>\n",
       "      <td>Manipuri</td>\n",
       "    </tr>\n",
       "    <tr>\n",
       "      <th>42891</th>\n",
       "      <td>Manipuri</td>\n",
       "    </tr>\n",
       "    <tr>\n",
       "      <th>68423</th>\n",
       "      <td>Oriya</td>\n",
       "    </tr>\n",
       "  </tbody>\n",
       "</table>\n",
       "<p>9801 rows × 1 columns</p>\n",
       "</div>"
      ],
      "text/plain": [
       "        y_valid\n",
       "39943   Kannada\n",
       "28890   Bengali\n",
       "42895  Manipuri\n",
       "32286  Konakani\n",
       "40125   Kannada\n",
       "...         ...\n",
       "49060    Sindhi\n",
       "2328   Kashmiri\n",
       "42909  Manipuri\n",
       "42891  Manipuri\n",
       "68423     Oriya\n",
       "\n",
       "[9801 rows x 1 columns]"
      ]
     },
     "execution_count": 64,
     "metadata": {},
     "output_type": "execute_result"
    }
   ],
   "source": [
    "be"
   ]
  },
  {
   "cell_type": "code",
   "execution_count": 65,
   "id": "357b19ab",
   "metadata": {},
   "outputs": [],
   "source": [
    "y=pd.concat([ae.reset_index(drop=True),be.reset_index(drop=True)],axis=1)"
   ]
  },
  {
   "cell_type": "code",
   "execution_count": 66,
   "id": "64a3d36f",
   "metadata": {
    "scrolled": true
   },
   "outputs": [
    {
     "data": {
      "text/html": [
       "<div>\n",
       "<style scoped>\n",
       "    .dataframe tbody tr th:only-of-type {\n",
       "        vertical-align: middle;\n",
       "    }\n",
       "\n",
       "    .dataframe tbody tr th {\n",
       "        vertical-align: top;\n",
       "    }\n",
       "\n",
       "    .dataframe thead th {\n",
       "        text-align: right;\n",
       "    }\n",
       "</style>\n",
       "<table border=\"1\" class=\"dataframe\">\n",
       "  <thead>\n",
       "    <tr style=\"text-align: right;\">\n",
       "      <th></th>\n",
       "      <th>y_val</th>\n",
       "      <th>y_valid</th>\n",
       "    </tr>\n",
       "  </thead>\n",
       "  <tbody>\n",
       "    <tr>\n",
       "      <th>0</th>\n",
       "      <td>Telugu</td>\n",
       "      <td>Kannada</td>\n",
       "    </tr>\n",
       "    <tr>\n",
       "      <th>1</th>\n",
       "      <td>Bengali</td>\n",
       "      <td>Bengali</td>\n",
       "    </tr>\n",
       "    <tr>\n",
       "      <th>2</th>\n",
       "      <td>Manipuri</td>\n",
       "      <td>Manipuri</td>\n",
       "    </tr>\n",
       "    <tr>\n",
       "      <th>3</th>\n",
       "      <td>Konakani</td>\n",
       "      <td>Konakani</td>\n",
       "    </tr>\n",
       "    <tr>\n",
       "      <th>4</th>\n",
       "      <td>Kannada</td>\n",
       "      <td>Kannada</td>\n",
       "    </tr>\n",
       "    <tr>\n",
       "      <th>...</th>\n",
       "      <td>...</td>\n",
       "      <td>...</td>\n",
       "    </tr>\n",
       "    <tr>\n",
       "      <th>9796</th>\n",
       "      <td>Sindhi</td>\n",
       "      <td>Sindhi</td>\n",
       "    </tr>\n",
       "    <tr>\n",
       "      <th>9797</th>\n",
       "      <td>Kashmiri</td>\n",
       "      <td>Kashmiri</td>\n",
       "    </tr>\n",
       "    <tr>\n",
       "      <th>9798</th>\n",
       "      <td>Manipuri</td>\n",
       "      <td>Manipuri</td>\n",
       "    </tr>\n",
       "    <tr>\n",
       "      <th>9799</th>\n",
       "      <td>Manipuri</td>\n",
       "      <td>Manipuri</td>\n",
       "    </tr>\n",
       "    <tr>\n",
       "      <th>9800</th>\n",
       "      <td>Oriya</td>\n",
       "      <td>Oriya</td>\n",
       "    </tr>\n",
       "  </tbody>\n",
       "</table>\n",
       "<p>9801 rows × 2 columns</p>\n",
       "</div>"
      ],
      "text/plain": [
       "         y_val   y_valid\n",
       "0       Telugu   Kannada\n",
       "1      Bengali   Bengali\n",
       "2     Manipuri  Manipuri\n",
       "3     Konakani  Konakani\n",
       "4      Kannada   Kannada\n",
       "...        ...       ...\n",
       "9796    Sindhi    Sindhi\n",
       "9797  Kashmiri  Kashmiri\n",
       "9798  Manipuri  Manipuri\n",
       "9799  Manipuri  Manipuri\n",
       "9800     Oriya     Oriya\n",
       "\n",
       "[9801 rows x 2 columns]"
      ]
     },
     "execution_count": 66,
     "metadata": {},
     "output_type": "execute_result"
    }
   ],
   "source": [
    "y"
   ]
  },
  {
   "cell_type": "code",
   "execution_count": 67,
   "id": "e55f01cb",
   "metadata": {},
   "outputs": [
    {
     "data": {
      "text/html": [
       "<div>\n",
       "<style scoped>\n",
       "    .dataframe tbody tr th:only-of-type {\n",
       "        vertical-align: middle;\n",
       "    }\n",
       "\n",
       "    .dataframe tbody tr th {\n",
       "        vertical-align: top;\n",
       "    }\n",
       "\n",
       "    .dataframe thead th {\n",
       "        text-align: right;\n",
       "    }\n",
       "</style>\n",
       "<table border=\"1\" class=\"dataframe\">\n",
       "  <thead>\n",
       "    <tr style=\"text-align: right;\">\n",
       "      <th></th>\n",
       "      <th>y_val</th>\n",
       "      <th>y_valid</th>\n",
       "    </tr>\n",
       "  </thead>\n",
       "  <tbody>\n",
       "    <tr>\n",
       "      <th>0</th>\n",
       "      <td>Telugu</td>\n",
       "      <td>Kannada</td>\n",
       "    </tr>\n",
       "    <tr>\n",
       "      <th>1</th>\n",
       "      <td>Bengali</td>\n",
       "      <td>Bengali</td>\n",
       "    </tr>\n",
       "    <tr>\n",
       "      <th>2</th>\n",
       "      <td>Manipuri</td>\n",
       "      <td>Manipuri</td>\n",
       "    </tr>\n",
       "    <tr>\n",
       "      <th>3</th>\n",
       "      <td>Konakani</td>\n",
       "      <td>Konakani</td>\n",
       "    </tr>\n",
       "    <tr>\n",
       "      <th>4</th>\n",
       "      <td>Kannada</td>\n",
       "      <td>Kannada</td>\n",
       "    </tr>\n",
       "    <tr>\n",
       "      <th>5</th>\n",
       "      <td>Tamil</td>\n",
       "      <td>Tamil</td>\n",
       "    </tr>\n",
       "    <tr>\n",
       "      <th>6</th>\n",
       "      <td>Kannada</td>\n",
       "      <td>Kannada</td>\n",
       "    </tr>\n",
       "    <tr>\n",
       "      <th>7</th>\n",
       "      <td>Oriya</td>\n",
       "      <td>Oriya</td>\n",
       "    </tr>\n",
       "    <tr>\n",
       "      <th>8</th>\n",
       "      <td>Tamil</td>\n",
       "      <td>Tamil</td>\n",
       "    </tr>\n",
       "    <tr>\n",
       "      <th>9</th>\n",
       "      <td>Punjabi</td>\n",
       "      <td>Punjabi</td>\n",
       "    </tr>\n",
       "  </tbody>\n",
       "</table>\n",
       "</div>"
      ],
      "text/plain": [
       "      y_val   y_valid\n",
       "0    Telugu   Kannada\n",
       "1   Bengali   Bengali\n",
       "2  Manipuri  Manipuri\n",
       "3  Konakani  Konakani\n",
       "4   Kannada   Kannada\n",
       "5     Tamil     Tamil\n",
       "6   Kannada   Kannada\n",
       "7     Oriya     Oriya\n",
       "8     Tamil     Tamil\n",
       "9   Punjabi   Punjabi"
      ]
     },
     "execution_count": 67,
     "metadata": {},
     "output_type": "execute_result"
    }
   ],
   "source": [
    "y.head(10\n",
    "      )"
   ]
  },
  {
   "cell_type": "code",
   "execution_count": 68,
   "id": "b9cc11e6",
   "metadata": {},
   "outputs": [],
   "source": [
    "y['is_equal']=(y['y_val'] == y['y_valid'])"
   ]
  },
  {
   "cell_type": "code",
   "execution_count": 69,
   "id": "2072d7dd",
   "metadata": {},
   "outputs": [
    {
     "data": {
      "text/html": [
       "<div>\n",
       "<style scoped>\n",
       "    .dataframe tbody tr th:only-of-type {\n",
       "        vertical-align: middle;\n",
       "    }\n",
       "\n",
       "    .dataframe tbody tr th {\n",
       "        vertical-align: top;\n",
       "    }\n",
       "\n",
       "    .dataframe thead th {\n",
       "        text-align: right;\n",
       "    }\n",
       "</style>\n",
       "<table border=\"1\" class=\"dataframe\">\n",
       "  <thead>\n",
       "    <tr style=\"text-align: right;\">\n",
       "      <th></th>\n",
       "      <th>y_val</th>\n",
       "      <th>y_valid</th>\n",
       "      <th>is_equal</th>\n",
       "    </tr>\n",
       "  </thead>\n",
       "  <tbody>\n",
       "    <tr>\n",
       "      <th>0</th>\n",
       "      <td>Telugu</td>\n",
       "      <td>Kannada</td>\n",
       "      <td>False</td>\n",
       "    </tr>\n",
       "    <tr>\n",
       "      <th>1</th>\n",
       "      <td>Bengali</td>\n",
       "      <td>Bengali</td>\n",
       "      <td>True</td>\n",
       "    </tr>\n",
       "    <tr>\n",
       "      <th>2</th>\n",
       "      <td>Manipuri</td>\n",
       "      <td>Manipuri</td>\n",
       "      <td>True</td>\n",
       "    </tr>\n",
       "    <tr>\n",
       "      <th>3</th>\n",
       "      <td>Konakani</td>\n",
       "      <td>Konakani</td>\n",
       "      <td>True</td>\n",
       "    </tr>\n",
       "    <tr>\n",
       "      <th>4</th>\n",
       "      <td>Kannada</td>\n",
       "      <td>Kannada</td>\n",
       "      <td>True</td>\n",
       "    </tr>\n",
       "    <tr>\n",
       "      <th>...</th>\n",
       "      <td>...</td>\n",
       "      <td>...</td>\n",
       "      <td>...</td>\n",
       "    </tr>\n",
       "    <tr>\n",
       "      <th>9796</th>\n",
       "      <td>Sindhi</td>\n",
       "      <td>Sindhi</td>\n",
       "      <td>True</td>\n",
       "    </tr>\n",
       "    <tr>\n",
       "      <th>9797</th>\n",
       "      <td>Kashmiri</td>\n",
       "      <td>Kashmiri</td>\n",
       "      <td>True</td>\n",
       "    </tr>\n",
       "    <tr>\n",
       "      <th>9798</th>\n",
       "      <td>Manipuri</td>\n",
       "      <td>Manipuri</td>\n",
       "      <td>True</td>\n",
       "    </tr>\n",
       "    <tr>\n",
       "      <th>9799</th>\n",
       "      <td>Manipuri</td>\n",
       "      <td>Manipuri</td>\n",
       "      <td>True</td>\n",
       "    </tr>\n",
       "    <tr>\n",
       "      <th>9800</th>\n",
       "      <td>Oriya</td>\n",
       "      <td>Oriya</td>\n",
       "      <td>True</td>\n",
       "    </tr>\n",
       "  </tbody>\n",
       "</table>\n",
       "<p>9801 rows × 3 columns</p>\n",
       "</div>"
      ],
      "text/plain": [
       "         y_val   y_valid  is_equal\n",
       "0       Telugu   Kannada     False\n",
       "1      Bengali   Bengali      True\n",
       "2     Manipuri  Manipuri      True\n",
       "3     Konakani  Konakani      True\n",
       "4      Kannada   Kannada      True\n",
       "...        ...       ...       ...\n",
       "9796    Sindhi    Sindhi      True\n",
       "9797  Kashmiri  Kashmiri      True\n",
       "9798  Manipuri  Manipuri      True\n",
       "9799  Manipuri  Manipuri      True\n",
       "9800     Oriya     Oriya      True\n",
       "\n",
       "[9801 rows x 3 columns]"
      ]
     },
     "execution_count": 69,
     "metadata": {},
     "output_type": "execute_result"
    }
   ],
   "source": [
    "y"
   ]
  },
  {
   "cell_type": "code",
   "execution_count": 70,
   "id": "7298ad56",
   "metadata": {},
   "outputs": [
    {
     "data": {
      "text/plain": [
       "<AxesSubplot:>"
      ]
     },
     "execution_count": 70,
     "metadata": {},
     "output_type": "execute_result"
    },
    {
     "data": {
      "image/png": "[encoded data removed]",
      "text/plain": [
       "<Figure size 640x480 with 1 Axes>"
      ]
     },
     "metadata": {},
     "output_type": "display_data"
    }
   ],
   "source": [
    "y['is_equal'].value_counts().plot.bar()"
   ]
  },
  {
   "cell_type": "code",
   "execution_count": 71,
   "id": "ffb9b2a4",
   "metadata": {},
   "outputs": [],
   "source": [
    "import joblib\n",
    "from flask import Flask, render_template,url_for,request"
   ]
  },
  {
   "cell_type": "code",
   "execution_count": 72,
   "id": "a0a81b4a",
   "metadata": {},
   "outputs": [
    {
     "name": "stdout",
     "output_type": "stream",
     "text": [
      "Requirement already satisfied: Flask in c:\\users\\ajithkomuravelly\\appdata\\local\\programs\\python\\python37\\lib\\site-packages (2.2.2)\n",
      "Requirement already satisfied: Werkzeug>=2.2.2 in c:\\users\\ajithkomuravelly\\appdata\\local\\programs\\python\\python37\\lib\\site-packages (from Flask) (2.2.2)\n",
      "Requirement already satisfied: Jinja2>=3.0 in c:\\users\\ajithkomuravelly\\appdata\\local\\programs\\python\\python37\\lib\\site-packages (from Flask) (3.1.2)\n",
      "Requirement already satisfied: click>=8.0 in c:\\users\\ajithkomuravelly\\appdata\\local\\programs\\python\\python37\\lib\\site-packages (from Flask) (8.1.3)\n",
      "Requirement already satisfied: itsdangerous>=2.0 in c:\\users\\ajithkomuravelly\\appdata\\local\\programs\\python\\python37\\lib\\site-packages (from Flask) (2.1.2)\n",
      "Requirement already satisfied: importlib-metadata>=3.6.0 in c:\\users\\ajithkomuravelly\\appdata\\local\\programs\\python\\python37\\lib\\site-packages (from Flask) (6.0.0)\n",
      "Requirement already satisfied: colorama in c:\\users\\ajithkomuravelly\\appdata\\local\\programs\\python\\python37\\lib\\site-packages (from click>=8.0->Flask) (0.4.6)\n",
      "Requirement already satisfied: zipp>=0.5 in c:\\users\\ajithkomuravelly\\appdata\\local\\programs\\python\\python37\\lib\\site-packages (from importlib-metadata>=3.6.0->Flask) (3.11.0)\n",
      "Requirement already satisfied: typing-extensions>=3.6.4 in c:\\users\\ajithkomuravelly\\appdata\\local\\programs\\python\\python37\\lib\\site-packages (from importlib-metadata>=3.6.0->Flask) (4.4.0)\n",
      "Requirement already satisfied: MarkupSafe>=2.0 in c:\\users\\ajithkomuravelly\\appdata\\local\\programs\\python\\python37\\lib\\site-packages (from Jinja2>=3.0->Flask) (2.1.2)\n",
      "Note: you may need to restart the kernel to use updated packages.\n"
     ]
    },
    {
     "name": "stderr",
     "output_type": "stream",
     "text": [
      "\n",
      "[notice] A new release of pip available: 22.3.1 -> 23.0\n",
      "[notice] To update, run: python.exe -m pip install --upgrade pip\n"
     ]
    }
   ],
   "source": [
    "pip install Flask"
   ]
  },
  {
   "cell_type": "code",
   "execution_count": 73,
   "id": "a08383d1",
   "metadata": {},
   "outputs": [],
   "source": [
    "# #Serialize the model and save\n",
    "# # from sklearn.externals import joblib\n",
    "# joblib.dump(model, 'randomfs.pkl')\n",
    "# print(\"Random Forest Model Saved\")\n",
    "# #Load the model\n",
    "# model = joblib.load('randomfs.pkl')\n",
    "# # Save features from training\n",
    "# rnd_columns = list(x_train.columns)\n",
    "# joblib.dump(rnd_columns, 'rnd_columns.pkl')\n",
    "# print(\"Random Forest Model Colums Saved\")"
   ]
  },
  {
   "cell_type": "code",
   "execution_count": 74,
   "id": "bc766b17",
   "metadata": {},
   "outputs": [],
   "source": [
    "# joblib.dump(model, 'model.pkl')\n",
    "# print(\"Model dumped!\")\n",
    "    \n",
    "#     #ytb_model = open('spam_model.pkl', 'rb')\n",
    "# model = joblib.load('model.pkl')\n",
    "# if request.method == 'POST':\n",
    "#     comment = request.form['comment']\n",
    "#     data = [comment]\n",
    "#     vect = cv.transform(data).toarray()\n",
    "#     my_prediction = model.predict(vect)\n",
    "# return render_template('result.html', prediction = my_prediction)\n",
    "\n",
    "# if __name__ == '__main__':\n",
    "#     app.run(debug=True)\n"
   ]
  },
  {
   "cell_type": "code",
   "execution_count": 75,
   "id": "b6367f1b",
   "metadata": {},
   "outputs": [
    {
     "data": {
      "image/png": "[encoded data removed]",
      "text/plain": [
       "<Figure size 640x480 with 2 Axes>"
      ]
     },
     "metadata": {},
     "output_type": "display_data"
    }
   ],
   "source": [
    "from sklearn import metrics\n",
    "import matplotlib.pyplot as plt\n",
    "\n",
    "confusion_matrix = metrics.confusion_matrix(y_val, y_valid)\n",
    "\n",
    "cm_display = metrics.ConfusionMatrixDisplay(confusion_matrix = confusion_matrix)\n",
    "\n",
    "cm_display.plot()\n",
    "plt.show()"
   ]
  },
  {
   "cell_type": "code",
   "execution_count": 76,
   "id": "974c6394",
   "metadata": {},
   "outputs": [],
   "source": [
    "import pickle\n",
    "\n",
    "pickle.dump(model, open('modelUpdated.pkl', 'wb'))"
   ]
  },
  {
   "cell_type": "code",
   "execution_count": 77,
   "id": "5df34982",
   "metadata": {},
   "outputs": [],
   "source": [
    "# pickled_model = pickle.load(open('model.pkl', 'rb'))"
   ]
  },
  {
   "cell_type": "code",
   "execution_count": 78,
   "id": "c9833055",
   "metadata": {},
   "outputs": [],
   "source": [
    "# pickled_model.predict(x_test)"
   ]
  },
  {
   "cell_type": "code",
   "execution_count": null,
   "id": "1dde7210",
   "metadata": {},
   "outputs": [],
   "source": []
  },
  {
   "cell_type": "code",
   "execution_count": null,
   "id": "766cfb67",
   "metadata": {},
   "outputs": [],
   "source": []
  }
 ],
 "metadata": {
  "kernelspec": {
   "display_name": "Python 3 (ipykernel)",
   "language": "python",
   "name": "python3"
  },
  "language_info": {
   "codemirror_mode": {
    "name": "ipython",
    "version": 3
   },
   "file_extension": ".py",
   "mimetype": "text/x-python",
   "name": "python",
   "nbconvert_exporter": "python",
   "pygments_lexer": "ipython3",
   "version": "3.7.7"
  },
  "vscode": {
   "interpreter": {
    "hash": "5e47793baa69bb6640b614929adf633214a6672fd537c5323b389ba1c84bb8ba"
   }
  }
 },
 "nbformat": 4,
 "nbformat_minor": 5
}
